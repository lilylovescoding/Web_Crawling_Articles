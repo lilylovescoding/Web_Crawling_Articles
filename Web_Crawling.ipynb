{
 "cells": [
  {
   "cell_type": "code",
   "execution_count": 1,
   "id": "09a632cc",
   "metadata": {},
   "outputs": [],
   "source": [
    "import requests\n",
    "import re\n",
    "#导入python-docx模块\n",
    "import docx\n",
    "from docx.oxml.ns import qn"
   ]
  },
  {
   "cell_type": "code",
   "execution_count": null,
   "id": "46e14f23",
   "metadata": {},
   "outputs": [],
   "source": [
    "#创建一个空字典来装我们的标题、链接、发布日期\n",
    "all_links = {} "
   ]
  },
  {
   "cell_type": "code",
   "execution_count": null,
   "id": "4c2de055",
   "metadata": {},
   "outputs": [],
   "source": [
    "#利用循环来构造网址\n",
    "for i in range(1, 452, 45):\n",
    "    start_url = 'https://jst.zj.gov.cn/'\n",
    "    url = f'https://jst.zj.gov.cn/module/jpage/dataproxy.jsp?startrecord={i}&endrecord={i+44}&perpage=15'\n",
    "    #最后一页只间隔了43，所有需要手动写\n",
    "    if i == 451:\n",
    "        url = f'https://jst.zj.gov.cn/module/jpage/dataproxy.jsp?startrecord={i}&endrecord=494&perpage=15'\n",
    "    \n",
    "    #将Form data写成字典，用于POST发送请求\n",
    "    formdata = {\n",
    "    'col': '1',\n",
    "    'appid': '1',\n",
    "    'webid': '3162',   \n",
    "    'path': '%2F',\n",
    "    'columnid': '1569296',\n",
    "    'sourceContentType': '1',\n",
    "    'unitid': '4803831',\n",
    "    'webname': '%E6%B5%99%E6%B1%9F%E7%9C%81%E4%BD%8F%E6%88%BF%E5%92%8C%E5%9F%8E%E4%B9%A1%E5%BB%BA%E8%AE%BE%E5%8E%85',\n",
    "    'permissiontype': '0'\n",
    "    }\n",
    "    #使用requests解析源代码\n",
    "    html = requests.post(url, data = formdata).content.decode()\n",
    "    #使用正则表达式获取文章链接\n",
    "    links = re.findall('href=(.*?)title', html)\n",
    "\n",
    "    #使用正则表达式获取标题\n",
    "    titles = re.findall('title=(.*?)>', html)\n",
    "\n",
    "    #使用正则表达式获取发布日期\n",
    "    dates = re.findall('32px;\">(.*?)<', html)\n",
    "    \n",
    "    for i in range (len(links)):\n",
    "        http_link = (start_url + links[i]).replace('\\'', '').strip()  #将链接与start_url拼接起来（这样才是正常的链接）\n",
    "        title = titles[i].strip() \n",
    "        time = dates[i].replace('-    ', '').strip()\n",
    "        all_links[title] = [http_link, time]  #结果存入all_links字典中"
   ]
  },
  {
   "cell_type": "code",
   "execution_count": null,
   "id": "e2b87fbe",
   "metadata": {},
   "outputs": [],
   "source": [
    "def to_word(all_links):\n",
    "    #构造请求头，模拟浏览器访问\n",
    "    header = {\"User-Agent\":\"Mozilla/5.0 (Windows NT 6.1; WOW64) AppleWebKit/537.36 (KHTML, like Gecko) Chrome/49.0.2623.221 Safari/537.36 SE 2.X MetaSr 1.0\"}\n",
    "    \n",
    "    counter = 0\n",
    "    for title in all_links.keys():\n",
    "        #创建新的word文档\n",
    "        doc = docx.Document()\n",
    "\n",
    "        #设置word文档字体样式等\n",
    "        doc.styles['Normal'].font.name = u'宋体'\n",
    "        doc.styles['Normal']._element.rPr.rFonts.set(qn('w:eastAsia'), u'宋体')\n",
    "        #添加标题\n",
    "        doc.add_heading(title, 1)\n",
    "        \n",
    "        #添加发布日期\n",
    "        date = all_links[title][1]\n",
    "        doc.add_paragraph(date)\n",
    "        \n",
    "        #添加正文\n",
    "        page = requests.get(all_links[title][0], headers = header).content.decode('utf-8')\n",
    "        articles = re.findall('2em;\">(.*?)</p>', page, re.S)\n",
    "        \n",
    "        for article in articles:\n",
    "            each = article.replace('<strong>', '').replace('</strong>', '').replace('<br/>', '').replace('<b>', '').replace('</b>', '')\n",
    "            doc.add_paragraph(each)\n",
    "        print(f\"写入文章{title}。\")\n",
    "        doc.save(f'{title}.docx')\n",
    "        \n",
    "        counter += 1\n",
    "        doc.add_page_break()\n",
    "        \n",
    "    print(f\"共写入{counter}篇文章。\")"
   ]
  },
  {
   "cell_type": "code",
   "execution_count": null,
   "id": "5ab43dbe",
   "metadata": {},
   "outputs": [],
   "source": [
    "to_word(all_links)"
   ]
  }
 ],
 "metadata": {
  "kernelspec": {
   "display_name": "Python 3 (ipykernel)",
   "language": "python",
   "name": "python3"
  },
  "language_info": {
   "codemirror_mode": {
    "name": "ipython",
    "version": 3
   },
   "file_extension": ".py",
   "mimetype": "text/x-python",
   "name": "python",
   "nbconvert_exporter": "python",
   "pygments_lexer": "ipython3",
   "version": "3.9.12"
  }
 },
 "nbformat": 4,
 "nbformat_minor": 5
}
